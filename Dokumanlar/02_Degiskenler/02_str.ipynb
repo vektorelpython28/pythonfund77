{
 "cells": [
  {
   "attachments": {},
   "cell_type": "markdown",
   "metadata": {},
   "source": [
    "# str veri tipi\n",
    "* tanımlama\n",
    "* kaçış karakteri nedir\n",
    "* erişim\n",
    "* yardımcı fonksiyonlar\n",
    "    - replace\n",
    "    - format\n",
    "    - count,index,find\n",
    "    - is fonksiyonları\n",
    "    - join\n",
    "    - split,rsplit\n",
    "    - strip,rstrip,lstrip\n",
    "    "
   ]
  },
  {
   "attachments": {},
   "cell_type": "markdown",
   "metadata": {},
   "source": [
    "### Tanımlama"
   ]
  },
  {
   "cell_type": "code",
   "execution_count": 2,
   "metadata": {},
   "outputs": [
    {
     "name": "stdout",
     "output_type": "stream",
     "text": [
      "<class 'str'>\n"
     ]
    }
   ],
   "source": [
    "var1 = \"\"\n",
    "print(type(var1))"
   ]
  },
  {
   "cell_type": "code",
   "execution_count": 3,
   "metadata": {},
   "outputs": [
    {
     "name": "stdout",
     "output_type": "stream",
     "text": [
      "<class 'str'>\n"
     ]
    }
   ],
   "source": [
    "var1 = ''\n",
    "print(type(var1))"
   ]
  },
  {
   "cell_type": "code",
   "execution_count": 5,
   "metadata": {},
   "outputs": [
    {
     "name": "stdout",
     "output_type": "stream",
     "text": [
      "<class 'str'>\n"
     ]
    }
   ],
   "source": [
    "var1 = \"\"\"Vektorel\n",
    "Bilişim\"\"\" # docstring\n",
    "print(type(var1))"
   ]
  },
  {
   "cell_type": "code",
   "execution_count": 6,
   "metadata": {},
   "outputs": [],
   "source": [
    "# var1 = \"\"\" Ankara'da \"yalnız\" \"\"\"\"\""
   ]
  },
  {
   "attachments": {},
   "cell_type": "markdown",
   "metadata": {},
   "source": [
    "### Kaçış karakteri\n",
    "```\n",
    "\\ escape sequence\n",
    "```"
   ]
  },
  {
   "cell_type": "code",
   "execution_count": 12,
   "metadata": {},
   "outputs": [
    {
     "name": "stdout",
     "output_type": "stream",
     "text": [
      "C:\talat\n",
      "alause.html\n"
     ]
    }
   ],
   "source": [
    "yol = \"C:\\talat\\nalan\\buse.html\"\n",
    "print(yol)"
   ]
  },
  {
   "cell_type": "code",
   "execution_count": 8,
   "metadata": {},
   "outputs": [
    {
     "name": "stdout",
     "output_type": "stream",
     "text": [
      "C:\\talat\\nalan\\buse.html\n"
     ]
    }
   ],
   "source": [
    "yol = \"C:\\\\talat\\\\nalan\\\\buse.html\"\n",
    "print(yol)"
   ]
  },
  {
   "cell_type": "code",
   "execution_count": 15,
   "metadata": {},
   "outputs": [
    {
     "name": "stdout",
     "output_type": "stream",
     "text": [
      "C:\\talat\\nalan\\buse.html\n"
     ]
    }
   ],
   "source": [
    "yol = r\"C:\\talat\\nalan\\buse.html\" # raw string\n",
    "print(yol)"
   ]
  },
  {
   "cell_type": "code",
   "execution_count": 13,
   "metadata": {},
   "outputs": [
    {
     "name": "stdout",
     "output_type": "stream",
     "text": [
      " Ankara'da \"yalnız\" \n"
     ]
    }
   ],
   "source": [
    "var1 =\" Ankara'da \\\"yalnız\\\" \" \n",
    "print(var1)"
   ]
  },
  {
   "cell_type": "code",
   "execution_count": 14,
   "metadata": {},
   "outputs": [
    {
     "name": "stdout",
     "output_type": "stream",
     "text": [
      " Ankara'da \"yalnız\" \n"
     ]
    }
   ],
   "source": [
    "var1 =' Ankara\\'da \"yalnız\" '\n",
    "print(var1)"
   ]
  },
  {
   "attachments": {},
   "cell_type": "markdown",
   "metadata": {},
   "source": [
    "### Erişim\n"
   ]
  },
  {
   "cell_type": "code",
   "execution_count": 16,
   "metadata": {},
   "outputs": [],
   "source": [
    "var1 = \"Ali\"\n",
    "#       012"
   ]
  },
  {
   "attachments": {},
   "cell_type": "markdown",
   "metadata": {},
   "source": [
    "tek elemana erişim"
   ]
  },
  {
   "cell_type": "code",
   "execution_count": 17,
   "metadata": {},
   "outputs": [
    {
     "name": "stdout",
     "output_type": "stream",
     "text": [
      "A\n"
     ]
    }
   ],
   "source": [
    "print(var1[0])"
   ]
  },
  {
   "cell_type": "code",
   "execution_count": 19,
   "metadata": {},
   "outputs": [
    {
     "name": "stdout",
     "output_type": "stream",
     "text": [
      "i\n"
     ]
    }
   ],
   "source": [
    "print(var1[-1])"
   ]
  },
  {
   "attachments": {},
   "cell_type": "markdown",
   "metadata": {},
   "source": [
    "Birden fazla karakter için\n",
    "```\n",
    "var1[başlangıç:bitiş(e kadar):adim]\n",
    "```"
   ]
  },
  {
   "cell_type": "code",
   "execution_count": 20,
   "metadata": {},
   "outputs": [
    {
     "name": "stdout",
     "output_type": "stream",
     "text": [
      "Yaş\n"
     ]
    }
   ],
   "source": [
    "var1 = \"Yaşamak\"\n",
    "#       0123456\n",
    "print(var1[0:3]) # 0 1 2 => Yaş"
   ]
  },
  {
   "cell_type": "code",
   "execution_count": 23,
   "metadata": {},
   "outputs": [
    {
     "name": "stdout",
     "output_type": "stream",
     "text": [
      "Yaş\n"
     ]
    }
   ],
   "source": [
    "var1 = \"Yaşamak\"\n",
    "#       0123456\n",
    "print(var1[0:-4]) # 0 1 2 => Yaş"
   ]
  },
  {
   "cell_type": "code",
   "execution_count": 24,
   "metadata": {},
   "outputs": [
    {
     "name": "stdout",
     "output_type": "stream",
     "text": [
      "Yaş\n"
     ]
    }
   ],
   "source": [
    "var1 = \"Yaşamak\"\n",
    "#       0123456\n",
    "print(var1[:-4]) # 0 1 2 => Yaş"
   ]
  },
  {
   "attachments": {},
   "cell_type": "markdown",
   "metadata": {},
   "source": [
    "Egzersiz<br>\n",
    "1. input fonksiyonu ile kullanıcıdan alıp bir değişkene aktardığınız metnin ilk iki karakterini ekrana yazdıran python kodunu yazınız\n",
    "2. aynı metnin son iki karakterini ekrana yazdıran python kodunu yazınız\n",
    "Çalışmalarınızı 02_02_str.py dosyası içerisinde yazabilirsiniz"
   ]
  },
  {
   "cell_type": "code",
   "execution_count": 25,
   "metadata": {},
   "outputs": [
    {
     "name": "stdout",
     "output_type": "stream",
     "text": [
      "Al\n",
      "li\n"
     ]
    }
   ],
   "source": [
    "var1 = input(\"Metni Giriniz:\")\n",
    "print(var1[:2]) # 1\n",
    "print(var1[-2:]) # 2"
   ]
  },
  {
   "cell_type": "code",
   "execution_count": 27,
   "metadata": {},
   "outputs": [
    {
     "name": "stdout",
     "output_type": "stream",
     "text": [
      "Yşm\n"
     ]
    }
   ],
   "source": [
    "var1 = \"Yaşamak\"\n",
    "#       0123456\n",
    "print(var1[0:5:2]) # 0 2 4 => Yşm"
   ]
  },
  {
   "cell_type": "code",
   "execution_count": 28,
   "metadata": {},
   "outputs": [
    {
     "name": "stdout",
     "output_type": "stream",
     "text": [
      "Yşmk\n"
     ]
    }
   ],
   "source": [
    "var1 = \"Yaşamak\"\n",
    "#       0123456\n",
    "print(var1[0::2]) # 0 2 4 6 => Yşmk"
   ]
  },
  {
   "cell_type": "code",
   "execution_count": 32,
   "metadata": {},
   "outputs": [
    {
     "name": "stdout",
     "output_type": "stream",
     "text": [
      "aaa\n"
     ]
    }
   ],
   "source": [
    "var1 = \"Yaşamak\"\n",
    "#       0123456\n",
    "print(var1[1::2]) # 1 3 5 => aaa"
   ]
  },
  {
   "cell_type": "code",
   "execution_count": 30,
   "metadata": {},
   "outputs": [
    {
     "name": "stdout",
     "output_type": "stream",
     "text": [
      "amaş\n"
     ]
    }
   ],
   "source": [
    "var1 = \"Yaşamak\"\n",
    "#       0123456\n",
    "print(var1[5:1:-1]) # 5 4 3 2 => amaş"
   ]
  },
  {
   "cell_type": "code",
   "execution_count": 33,
   "metadata": {},
   "outputs": [
    {
     "name": "stdout",
     "output_type": "stream",
     "text": [
      "kamaşaY\n"
     ]
    }
   ],
   "source": [
    "var1 = \"Yaşamak\"\n",
    "#       0123456\n",
    "print(var1[::-1]) # 6 5 4 3 2 1 0 => kamaşaY"
   ]
  },
  {
   "attachments": {},
   "cell_type": "markdown",
   "metadata": {},
   "source": [
    "### Yardımcı Fonksiyonlar"
   ]
  },
  {
   "cell_type": "code",
   "execution_count": 35,
   "metadata": {},
   "outputs": [
    {
     "name": "stdout",
     "output_type": "stream",
     "text": [
      "['__add__', '__class__', '__contains__', '__delattr__', '__dir__', '__doc__', '__eq__', '__format__', '__ge__', '__getattribute__', '__getitem__', '__getnewargs__', '__gt__', '__hash__', '__init__', '__init_subclass__', '__iter__', '__le__', '__len__', '__lt__', '__mod__', '__mul__', '__ne__', '__new__', '__reduce__', '__reduce_ex__', '__repr__', '__rmod__', '__rmul__', '__setattr__', '__sizeof__', '__str__', '__subclasshook__', 'capitalize', 'casefold', 'center', 'count', 'encode', 'endswith', 'expandtabs', 'find', 'format', 'format_map', 'index', 'isalnum', 'isalpha', 'isascii', 'isdecimal', 'isdigit', 'isidentifier', 'islower', 'isnumeric', 'isprintable', 'isspace', 'istitle', 'isupper', 'join', 'ljust', 'lower', 'lstrip', 'maketrans', 'partition', 'replace', 'rfind', 'rindex', 'rjust', 'rpartition', 'rsplit', 'rstrip', 'split', 'splitlines', 'startswith', 'strip', 'swapcase', 'title', 'translate', 'upper', 'zfill']\n"
     ]
    }
   ],
   "source": [
    "var1 = \"Vektörel\"\n",
    "print(dir(var1))"
   ]
  },
  {
   "attachments": {},
   "cell_type": "markdown",
   "metadata": {},
   "source": [
    "#### replace"
   ]
  },
  {
   "cell_type": "code",
   "execution_count": 45,
   "metadata": {},
   "outputs": [
    {
     "name": "stdout",
     "output_type": "stream",
     "text": [
      "Tişikkirlir Sipirmin\n",
      "Teşekkürler Süpermen\n"
     ]
    }
   ],
   "source": [
    "var1 = \"Teşekkürler Süpermen\"\n",
    "print(var1.replace(\"e\",\"i\").replace(\"ü\",\"i\"))\n",
    "print(var1)"
   ]
  },
  {
   "cell_type": "code",
   "execution_count": 46,
   "metadata": {},
   "outputs": [
    {
     "name": "stdout",
     "output_type": "stream",
     "text": [
      "Tişikkirlir Sipirmin\n",
      "Tişikkirlir Sipirmin\n"
     ]
    }
   ],
   "source": [
    "var1 = \"Teşekkürler Süpermen\"\n",
    "print(var1.replace(\"e\",\"i\").replace(\"ü\",\"i\"))\n",
    "var1 = var1.replace(\"e\",\"i\").replace(\"ü\",\"i\") # değişikliklerin değişkende \n",
    "# geçerli olabilmesi için tekrar atama yapıldı\n",
    "print(var1)"
   ]
  },
  {
   "cell_type": "code",
   "execution_count": 48,
   "metadata": {},
   "outputs": [
    {
     "data": {
      "text/plain": [
       "'Yuşumak'"
      ]
     },
     "execution_count": 48,
     "metadata": {},
     "output_type": "execute_result"
    }
   ],
   "source": [
    "var1 = \"Yaşamak\"\n",
    "var1.replace(\"a\",\"u\",2)"
   ]
  },
  {
   "attachments": {},
   "cell_type": "markdown",
   "metadata": {},
   "source": [
    "### Egzersiz\n",
    "```\n",
    "var1 = \"Teşekkürler Süpermen\"\n",
    "```\n",
    "1. yukarıdaki ifadeyi aşağıdaki ifadeye çevirebilmek için gerekli python kodunu yazınız.\n",
    "```\n",
    "\"Teşekkürler Süpirmin\"\n",
    "```\n",
    "ipuçları:\n",
    "1. [::-1]\n",
    "2.  replace"
   ]
  },
  {
   "cell_type": "code",
   "execution_count": 50,
   "metadata": {},
   "outputs": [
    {
     "name": "stdout",
     "output_type": "stream",
     "text": [
      "Teşekkürler Süpirmin\n"
     ]
    }
   ],
   "source": [
    "var1 = \"Teşekkürler Süpermen\"\n",
    "var1 = var1[::-1].replace(\"e\",\"i\",2)[::-1]\n",
    "print(var1)"
   ]
  },
  {
   "cell_type": "code",
   "execution_count": 39,
   "metadata": {},
   "outputs": [
    {
     "data": {
      "text/plain": [
       "'Süpermen Teşekkürler'"
      ]
     },
     "execution_count": 39,
     "metadata": {},
     "output_type": "execute_result"
    }
   ],
   "source": [
    "var1 = \"Teşekkürler Süpermen\"\n",
    "var1.split()[1] + \" \" + var1.split()[0]"
   ]
  },
  {
   "cell_type": "code",
   "execution_count": 42,
   "metadata": {},
   "outputs": [
    {
     "data": {
      "text/plain": [
       "'Süpermen Teşekkürler'"
      ]
     },
     "execution_count": 42,
     "metadata": {},
     "output_type": "execute_result"
    }
   ],
   "source": [
    "var1 = \"Teşekkürler Süpermen\"\n",
    "var1[var1.index(\" \")+1:] + \" \" + var1[:var1.index(\" \")]"
   ]
  },
  {
   "cell_type": "code",
   "execution_count": null,
   "metadata": {},
   "outputs": [],
   "source": []
  }
 ],
 "metadata": {
  "kernelspec": {
   "display_name": "Python 3",
   "language": "python",
   "name": "python3"
  },
  "language_info": {
   "codemirror_mode": {
    "name": "ipython",
    "version": 3
   },
   "file_extension": ".py",
   "mimetype": "text/x-python",
   "name": "python",
   "nbconvert_exporter": "python",
   "pygments_lexer": "ipython3",
   "version": "3.8.16"
  },
  "orig_nbformat": 4
 },
 "nbformat": 4,
 "nbformat_minor": 2
}
