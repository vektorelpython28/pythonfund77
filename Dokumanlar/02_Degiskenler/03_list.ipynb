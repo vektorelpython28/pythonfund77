{
 "cells": [
  {
   "attachments": {},
   "cell_type": "markdown",
   "metadata": {},
   "source": [
    "# list veri tipi\n",
    "* tanımlama\n",
    "* erişim\n",
    "* ekleme,silme,güncelleme\n",
    "* yardımcı fonksiyon"
   ]
  },
  {
   "attachments": {},
   "cell_type": "markdown",
   "metadata": {},
   "source": [
    "### Tanımlama"
   ]
  },
  {
   "cell_type": "code",
   "execution_count": 1,
   "metadata": {},
   "outputs": [
    {
     "name": "stdout",
     "output_type": "stream",
     "text": [
      "<class 'list'>\n"
     ]
    }
   ],
   "source": [
    "liste = []\n",
    "print(type(liste))\n"
   ]
  },
  {
   "cell_type": "code",
   "execution_count": 2,
   "metadata": {},
   "outputs": [
    {
     "name": "stdout",
     "output_type": "stream",
     "text": [
      "<class 'list'>\n"
     ]
    },
    {
     "data": {
      "text/plain": [
       "[<function print>, 'ali', 2]"
      ]
     },
     "execution_count": 2,
     "metadata": {},
     "output_type": "execute_result"
    }
   ],
   "source": [
    "liste = [print,input(\"yaz\"),2]\n",
    "print(type(liste))\n",
    "liste"
   ]
  },
  {
   "attachments": {},
   "cell_type": "markdown",
   "metadata": {},
   "source": [
    "### Erişim"
   ]
  },
  {
   "cell_type": "code",
   "execution_count": 3,
   "metadata": {},
   "outputs": [
    {
     "data": {
      "text/plain": [
       "'AAAA'"
      ]
     },
     "execution_count": 3,
     "metadata": {},
     "output_type": "execute_result"
    }
   ],
   "source": [
    "liste = [\"aaaa\",23,12.0,[1,2,2,3],(1,2,3,)]\n",
    "#          0    1    2      3        4     \n",
    "liste[0].upper()"
   ]
  },
  {
   "cell_type": "code",
   "execution_count": 4,
   "metadata": {},
   "outputs": [
    {
     "data": {
      "text/plain": [
       "6"
      ]
     },
     "execution_count": 4,
     "metadata": {},
     "output_type": "execute_result"
    }
   ],
   "source": [
    "liste = [[1,2,3],[4,5,6]]\n",
    "#           0        1\n",
    "#         0 1 2   0 1 2\n",
    "liste[1][2]"
   ]
  },
  {
   "cell_type": "code",
   "execution_count": 5,
   "metadata": {},
   "outputs": [
    {
     "name": "stdout",
     "output_type": "stream",
     "text": [
      "Merhaba\n"
     ]
    }
   ],
   "source": [
    "liste = [print,sum,len]\n",
    "liste[0](\"Merhaba\")"
   ]
  },
  {
   "cell_type": "code",
   "execution_count": 6,
   "metadata": {},
   "outputs": [
    {
     "data": {
      "text/plain": [
       "7"
      ]
     },
     "execution_count": 6,
     "metadata": {},
     "output_type": "execute_result"
    }
   ],
   "source": [
    "liste[2](\"Merhaba\")"
   ]
  },
  {
   "attachments": {},
   "cell_type": "markdown",
   "metadata": {},
   "source": [
    "## Ekleme"
   ]
  },
  {
   "cell_type": "code",
   "execution_count": 1,
   "metadata": {},
   "outputs": [
    {
     "name": "stdout",
     "output_type": "stream",
     "text": [
      "[1000, 1, 2, 3, 4, 5]\n"
     ]
    }
   ],
   "source": [
    "liste = [1,2,3,4,5]\n",
    "liste.insert(0,1000)\n",
    "print(liste)"
   ]
  },
  {
   "cell_type": "code",
   "execution_count": 3,
   "metadata": {},
   "outputs": [
    {
     "name": "stdout",
     "output_type": "stream",
     "text": [
      "[1, 2, 3, 4, 5, 1000]\n"
     ]
    }
   ],
   "source": [
    "liste = [1,2,3,4,5]\n",
    "liste.append(1000)\n",
    "print(liste)\n"
   ]
  },
  {
   "cell_type": "code",
   "execution_count": 6,
   "metadata": {},
   "outputs": [
    {
     "name": "stdout",
     "output_type": "stream",
     "text": [
      "[1, 2, 3, 4, 5, 6]\n"
     ]
    }
   ],
   "source": [
    "liste1 = [1,2,3]\n",
    "liste2 = [4,5,6]\n",
    "liste3 = liste1 + liste2 # concat\n",
    "print(liste3)"
   ]
  },
  {
   "cell_type": "code",
   "execution_count": 7,
   "metadata": {},
   "outputs": [
    {
     "name": "stdout",
     "output_type": "stream",
     "text": [
      "[1, 2, 3, 4, 5, 6]\n"
     ]
    }
   ],
   "source": [
    "liste1 = [1,2,3]\n",
    "liste2 = [4,5,6]\n",
    "liste1.extend(liste2)\n",
    "print(liste1)\n",
    "# [1, 2, 3, 4, 5, 6]\n",
    "#  0  1  2  3  4  5"
   ]
  },
  {
   "cell_type": "code",
   "execution_count": 8,
   "metadata": {},
   "outputs": [
    {
     "name": "stdout",
     "output_type": "stream",
     "text": [
      "[1, 2, 3, [4, 5, 6]]\n"
     ]
    }
   ],
   "source": [
    "liste1 = [1,2,3]\n",
    "liste2 = [4,5,6]\n",
    "liste1.append(liste2)\n",
    "print(liste1)\n",
    "# [1, 2, 3, [4, 5, 6]]\n",
    "#   0 1  2      3"
   ]
  },
  {
   "attachments": {},
   "cell_type": "markdown",
   "metadata": {},
   "source": [
    "### Güncelleme"
   ]
  },
  {
   "cell_type": "code",
   "execution_count": 1,
   "metadata": {},
   "outputs": [
    {
     "name": "stdout",
     "output_type": "stream",
     "text": [
      "['a', 1000, 'c']\n"
     ]
    }
   ],
   "source": [
    "liste = [\"a\",\"b\",\"c\"]\n",
    "#         0   1   2\n",
    "liste[1] = 1000\n",
    "print(liste)"
   ]
  },
  {
   "attachments": {},
   "cell_type": "markdown",
   "metadata": {},
   "source": [
    "## Silme\n",
    "* pop\n",
    "* remove\n",
    "* del"
   ]
  },
  {
   "cell_type": "code",
   "execution_count": 2,
   "metadata": {},
   "outputs": [
    {
     "name": "stdout",
     "output_type": "stream",
     "text": [
      "['a', 'b']\n"
     ]
    }
   ],
   "source": [
    "liste = [\"a\",\"b\",\"c\"]\n",
    "liste.pop() # bış bırakıldığında en son eleman silinir ve elemanı değer olarak döner\n",
    "# parametre olarak indis numarası alır\n",
    "print(liste)"
   ]
  },
  {
   "cell_type": "code",
   "execution_count": 4,
   "metadata": {},
   "outputs": [
    {
     "name": "stdout",
     "output_type": "stream",
     "text": [
      "['a', 'b']\n"
     ]
    }
   ],
   "source": [
    "liste = [\"a\",\"b\",\"c\"]\n",
    "liste.pop(2) # bış bırakıldığında en son eleman silinir ve elemanı değer olarak döner\n",
    "# parametre olarak indis numarası alır\n",
    "print(liste)"
   ]
  },
  {
   "cell_type": "code",
   "execution_count": 5,
   "metadata": {},
   "outputs": [
    {
     "name": "stdout",
     "output_type": "stream",
     "text": [
      "c\n",
      "['a', 'b']\n"
     ]
    }
   ],
   "source": [
    "liste = [\"a\",\"b\",\"c\"]\n",
    "print(liste.pop(2)) # bış bırakıldığında en son eleman silinir ve elemanı değer olarak döner\n",
    "# parametre olarak indis numarası alır\n",
    "print(liste)"
   ]
  },
  {
   "cell_type": "code",
   "execution_count": 7,
   "metadata": {},
   "outputs": [
    {
     "name": "stdout",
     "output_type": "stream",
     "text": [
      "['b', 'a', 'a', 'c', 'b']\n"
     ]
    }
   ],
   "source": [
    "liste = [\"a\",\"b\",\"a\",\"a\",\"c\",\"b\"]\n",
    "liste.remove(\"a\") # parametre olarak değer alır ve ilk bulduğu değeri siler\n",
    "print(liste)"
   ]
  },
  {
   "cell_type": "code",
   "execution_count": 8,
   "metadata": {},
   "outputs": [
    {
     "name": "stdout",
     "output_type": "stream",
     "text": [
      "['a', 'a', 'a', 'c', 'b']\n"
     ]
    }
   ],
   "source": [
    "liste = [\"a\",\"b\",\"a\",\"a\",\"c\",\"b\"]\n",
    "#         0   1   2   3   4   5\n",
    "del  liste[1]\n",
    "print(liste)"
   ]
  },
  {
   "cell_type": "code",
   "execution_count": 10,
   "metadata": {},
   "outputs": [
    {
     "name": "stdout",
     "output_type": "stream",
     "text": [
      "1. Adım 5\n"
     ]
    },
    {
     "ename": "NameError",
     "evalue": "name 'a' is not defined",
     "output_type": "error",
     "traceback": [
      "\u001b[0;31m---------------------------------------------------------------------------\u001b[0m",
      "\u001b[0;31mNameError\u001b[0m                                 Traceback (most recent call last)",
      "Cell \u001b[0;32mIn[10], line 4\u001b[0m\n\u001b[1;32m      2\u001b[0m \u001b[39mprint\u001b[39m(\u001b[39m\"\u001b[39m\u001b[39m1. Adım\u001b[39m\u001b[39m\"\u001b[39m,a)\n\u001b[1;32m      3\u001b[0m \u001b[39mdel\u001b[39;00m a\n\u001b[0;32m----> 4\u001b[0m \u001b[39mprint\u001b[39m(\u001b[39m\"\u001b[39m\u001b[39m2. Adım\u001b[39m\u001b[39m\"\u001b[39m,a)\n",
      "\u001b[0;31mNameError\u001b[0m: name 'a' is not defined"
     ]
    }
   ],
   "source": [
    "a = 5\n",
    "print(\"1. Adım\",a)\n",
    "del a\n",
    "print(\"2. Adım\",a)"
   ]
  },
  {
   "attachments": {},
   "cell_type": "markdown",
   "metadata": {},
   "source": [
    "Egzersiz_1<br>\n",
    "* \n",
    "```\n",
    "liste = ['Red', 'Green', 'White', 'Black', 'Pink', 'Yellow']\n",
    "Beklenen => ['Green', 'White', 'Black']\n",
    "```\n",
    "yukarıdaki listenin 0,4 ve 5. elemanlarını siliniz\n",
    "\n",
    "\n",
    "```\n",
    "liste = [25,41,52,63,85,74]\n",
    "```\n",
    "*  \n",
    "     - yukarıdaki listede yer alan 3. ve 5. elemanların karesini liste sonuna ekleyiniz\n",
    "    - 2. ve 4. elemanın karesini kendi yerinde güncelleyiniz\n",
    "    - 1. elemanı siliniz\n",
    "    - [456,789,234] sayılarını liste içerisine genişleterek ekleyiniz\n",
    "\n",
    "`liste = [12,2,2,2,3,3,3,1,1,1,2,2]`\n",
    "* \n",
    "- yukarıdaki listenin uzunluğunu ekrana yazdırınız\n",
    "- listedeki en büyük sayıyı yazdırınız (araştırma)\n",
    "- listedeki en küçük sayıyı yazdırınız (araştırma)\n",
    "- listedeki sayıların toplamını yazdırınız (araştırma)"
   ]
  },
  {
   "cell_type": "code",
   "execution_count": 20,
   "metadata": {},
   "outputs": [
    {
     "data": {
      "text/plain": [
       "['Green', 'White', 'Black']"
      ]
     },
     "execution_count": 20,
     "metadata": {},
     "output_type": "execute_result"
    }
   ],
   "source": [
    "\n",
    "# 1. Soru\n",
    "liste = ['Red', 'Green', 'White', 'Black', 'Pink', 'Yellow']\n",
    "#         0       1         2          3    4        5\n",
    "# liste.pop(0)\n",
    "# liste.pop(3)\n",
    "# liste.pop(3)\n",
    "del liste[0],liste[4],liste[3]\n",
    "liste\n"
   ]
  },
  {
   "cell_type": "code",
   "execution_count": 21,
   "metadata": {},
   "outputs": [
    {
     "name": "stdout",
     "output_type": "stream",
     "text": [
      "['Green', 'White', 'Black']\n"
     ]
    }
   ],
   "source": [
    "liste = ['Red', 'Green', 'White', 'Black', 'Pink', 'Yellow']\n",
    "liste = [x for (i,x) in enumerate(liste) if i not in (0,4,5)]\n",
    "print(liste)"
   ]
  },
  {
   "cell_type": "code",
   "execution_count": 24,
   "metadata": {},
   "outputs": [
    {
     "name": "stdout",
     "output_type": "stream",
     "text": [
      "[25, 41, 52, 63, 85, 74, 5476, 7225]\n",
      "[1681, 52, 3969, 85, 74, 5476, 7225, 456, 789, 234]\n"
     ]
    }
   ],
   "source": [
    "# 2. Soru\n",
    "#### a\n",
    "liste = [25,41,52,63,85,74]\n",
    "liste.append(liste[-1]**2)\n",
    "liste.append(liste[-3]**2)\n",
    "print(liste)\n",
    "#### b\n",
    "liste[1] = liste[1]**2\n",
    "liste[3] = liste[3]**2\n",
    "#### c\n",
    "liste.pop(0)\n",
    "#### d\n",
    "liste.extend([456,789,234])\n",
    "###### Sonuç\n",
    "print(liste)"
   ]
  },
  {
   "cell_type": "code",
   "execution_count": 25,
   "metadata": {},
   "outputs": [
    {
     "name": "stdout",
     "output_type": "stream",
     "text": [
      "12\n",
      "12\n",
      "1\n",
      "34\n"
     ]
    }
   ],
   "source": [
    "# 3. Soru\n",
    "liste = [12,2,2,2,3,3,3,1,1,1,2,2]\n",
    "# * \n",
    "# - yukarıdaki listenin uzunluğunu ekrana yazdırınız\n",
    "# - listedeki en büyük sayıyı yazdırınız (araştırma)\n",
    "# - listedeki en küçük sayıyı yazdırınız (araştırma)\n",
    "# - listedeki sayıların toplamını yazdırınız (araştırma)\n",
    "######### a\n",
    "print(len(liste)) # length\n",
    "print(max(liste)) # maximum\n",
    "print(min(liste)) # minimum\n",
    "print(sum(liste)) # summary"
   ]
  },
  {
   "cell_type": "code",
   "execution_count": 28,
   "metadata": {},
   "outputs": [
    {
     "name": "stdout",
     "output_type": "stream",
     "text": [
      "94839547365344\n",
      "94839547365344\n"
     ]
    }
   ],
   "source": [
    "var1 = 2\n",
    "var2 = var1\n",
    "print(id(var1))\n",
    "print(id(var2))"
   ]
  },
  {
   "cell_type": "code",
   "execution_count": 29,
   "metadata": {},
   "outputs": [
    {
     "name": "stdout",
     "output_type": "stream",
     "text": [
      "94839547365376\n"
     ]
    }
   ],
   "source": [
    "var2 = var2 + 1\n",
    "print(id(var2))"
   ]
  },
  {
   "cell_type": "code",
   "execution_count": 30,
   "metadata": {},
   "outputs": [
    {
     "name": "stdout",
     "output_type": "stream",
     "text": [
      "140206190574272\n",
      "140206190574272\n"
     ]
    }
   ],
   "source": [
    "a = [1,2,3,4]\n",
    "b = a\n",
    "print(id(a))\n",
    "print(id(b))\n"
   ]
  },
  {
   "cell_type": "code",
   "execution_count": 31,
   "metadata": {},
   "outputs": [
    {
     "name": "stdout",
     "output_type": "stream",
     "text": [
      "140206190574272\n"
     ]
    }
   ],
   "source": [
    "b.append(25)\n",
    "print(id(b))"
   ]
  },
  {
   "cell_type": "code",
   "execution_count": 32,
   "metadata": {},
   "outputs": [
    {
     "name": "stdout",
     "output_type": "stream",
     "text": [
      "[1, 2, 3, 4, 25]\n",
      "[1, 2, 3, 4, 25]\n"
     ]
    }
   ],
   "source": [
    "print(a)\n",
    "print(b)"
   ]
  },
  {
   "attachments": {},
   "cell_type": "markdown",
   "metadata": {},
   "source": [
    "#### copy"
   ]
  },
  {
   "cell_type": "code",
   "execution_count": 34,
   "metadata": {},
   "outputs": [
    {
     "name": "stdout",
     "output_type": "stream",
     "text": [
      "[12, 2, 3]\n"
     ]
    }
   ],
   "source": [
    "liste = [12,2,3]\n",
    "b = liste.copy()\n",
    "liste.append(300)\n",
    "print(b)"
   ]
  },
  {
   "cell_type": "code",
   "execution_count": 35,
   "metadata": {},
   "outputs": [
    {
     "data": {
      "text/plain": [
       "[2, 12, 23, 23, 23, 123, 123, 324]"
      ]
     },
     "execution_count": 35,
     "metadata": {},
     "output_type": "execute_result"
    }
   ],
   "source": [
    "liste = [23,23,324,23,2,12,123,123]\n",
    "liste.sort()\n",
    "liste"
   ]
  },
  {
   "cell_type": "code",
   "execution_count": 36,
   "metadata": {},
   "outputs": [
    {
     "data": {
      "text/plain": [
       "[324, 123, 123, 23, 23, 23, 12, 2]"
      ]
     },
     "execution_count": 36,
     "metadata": {},
     "output_type": "execute_result"
    }
   ],
   "source": [
    "liste = [23,23,324,23,2,12,123,123]\n",
    "liste.sort(reverse=True)\n",
    "liste"
   ]
  },
  {
   "cell_type": "code",
   "execution_count": 37,
   "metadata": {},
   "outputs": [
    {
     "data": {
      "text/plain": [
       "[123, 123, 12, 2, 23, 324, 23, 23]"
      ]
     },
     "execution_count": 37,
     "metadata": {},
     "output_type": "execute_result"
    }
   ],
   "source": [
    "liste = [23,23,324,23,2,12,123,123]\n",
    "liste.reverse()\n",
    "liste"
   ]
  },
  {
   "cell_type": "code",
   "execution_count": 38,
   "metadata": {},
   "outputs": [
    {
     "data": {
      "text/plain": [
       "[324, 123, 123, 23, 23, 23, 12, 2]"
      ]
     },
     "execution_count": 38,
     "metadata": {},
     "output_type": "execute_result"
    }
   ],
   "source": [
    "liste = [23,23,324,23,2,12,123,123]\n",
    "liste.sort()\n",
    "liste.reverse()\n",
    "liste"
   ]
  },
  {
   "cell_type": "code",
   "execution_count": null,
   "metadata": {},
   "outputs": [],
   "source": []
  }
 ],
 "metadata": {
  "kernelspec": {
   "display_name": "Python 3.10.6 64-bit",
   "language": "python",
   "name": "python3"
  },
  "language_info": {
   "codemirror_mode": {
    "name": "ipython",
    "version": 3
   },
   "file_extension": ".py",
   "mimetype": "text/x-python",
   "name": "python",
   "nbconvert_exporter": "python",
   "pygments_lexer": "ipython3",
   "version": "3.8.16"
  },
  "orig_nbformat": 4,
  "vscode": {
   "interpreter": {
    "hash": "26de051ba29f2982a8de78e945f0abaf191376122a1563185a90213a26c5da77"
   }
  }
 },
 "nbformat": 4,
 "nbformat_minor": 2
}
