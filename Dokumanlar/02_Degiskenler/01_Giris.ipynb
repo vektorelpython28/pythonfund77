{
 "cells": [
  {
   "attachments": {},
   "cell_type": "markdown",
   "metadata": {},
   "source": [
    "# Değişken Tanımı\n",
    "* kurallar\n",
    "* farklı değişken tanımlama örnekleri"
   ]
  },
  {
   "cell_type": "code",
   "execution_count": 6,
   "metadata": {},
   "outputs": [],
   "source": [
    "# degisken = veri \n",
    "a = \"vektorel\""
   ]
  },
  {
   "cell_type": "code",
   "execution_count": 5,
   "metadata": {},
   "outputs": [
    {
     "name": "stdout",
     "output_type": "stream",
     "text": [
      "vektorel\n"
     ]
    }
   ],
   "source": [
    "print(a)"
   ]
  },
  {
   "attachments": {},
   "cell_type": "markdown",
   "metadata": {},
   "source": [
    "Kurallar\n",
    "1. Sayı ile başlayamaz\n",
    "2. `_` dışında bir noktalama işareti kullanılmaz\n",
    "3. rezerve kelimelerin kullanılması önerilmez\n",
    "```\n",
    "import keyword as kw\n",
    "print(kw.kwlist)\n",
    "```"
   ]
  },
  {
   "cell_type": "code",
   "execution_count": 13,
   "metadata": {},
   "outputs": [],
   "source": [
    "var_1  = 1"
   ]
  },
  {
   "cell_type": "code",
   "execution_count": 14,
   "metadata": {},
   "outputs": [],
   "source": [
    "adi_soyadi = \"Vektorel Python\""
   ]
  },
  {
   "cell_type": "code",
   "execution_count": 15,
   "metadata": {},
   "outputs": [],
   "source": [
    "var1 = 1 #int\n",
    "var2 = 1.0 # float\n",
    "var3 = 1.0 + 1.0j # complex\n",
    "################################\n",
    "var4 = \"Vektorel\" #str\n",
    "var5 = [1,1.0,1.0+1.0j,\"Vektorel\"] #list\n",
    "var6 = (1,1.0,1.0+1.0j,\"Vektorel\") #tuple\n",
    "var7 = {\"1\":\"Bir\",\"2\":\"İki\"} # dict\n",
    "var8 = {1,2,3} # set\n",
    "var9 = True # bool"
   ]
  },
  {
   "attachments": {},
   "cell_type": "markdown",
   "metadata": {},
   "source": [
    "### type fonksiyonu"
   ]
  },
  {
   "cell_type": "code",
   "execution_count": 17,
   "metadata": {},
   "outputs": [
    {
     "name": "stdout",
     "output_type": "stream",
     "text": [
      "<class 'int'>\n",
      "<class 'float'>\n",
      "<class 'complex'>\n",
      "<class 'str'>\n",
      "<class 'list'>\n",
      "<class 'tuple'>\n",
      "<class 'dict'>\n",
      "<class 'set'>\n",
      "<class 'bool'>\n"
     ]
    }
   ],
   "source": [
    "print(type(var1))\n",
    "print(type(var2))\n",
    "print(type(var3))\n",
    "print(type(var4))\n",
    "print(type(var5))\n",
    "print(type(var6))\n",
    "print(type(var7))\n",
    "print(type(var8))\n",
    "print(type(var9))"
   ]
  },
  {
   "attachments": {},
   "cell_type": "markdown",
   "metadata": {},
   "source": [
    "### farklı değişken tanımlama örnekleri"
   ]
  },
  {
   "cell_type": "code",
   "execution_count": 18,
   "metadata": {},
   "outputs": [
    {
     "name": "stdout",
     "output_type": "stream",
     "text": [
      "31\n",
      "31\n",
      "31\n"
     ]
    }
   ],
   "source": [
    "ocak = mart = mayis = 31\n",
    "print(ocak)\n",
    "print(mart)\n",
    "print(mayis)"
   ]
  },
  {
   "cell_type": "code",
   "execution_count": 19,
   "metadata": {},
   "outputs": [
    {
     "name": "stdout",
     "output_type": "stream",
     "text": [
      "1 2 3 4 5\n"
     ]
    }
   ],
   "source": [
    "a,b,c,d,e = 1,2,3,4,5\n",
    "print(a,b,c,d,e)"
   ]
  },
  {
   "cell_type": "code",
   "execution_count": 20,
   "metadata": {},
   "outputs": [
    {
     "name": "stdout",
     "output_type": "stream",
     "text": [
      "1 2\n"
     ]
    }
   ],
   "source": [
    "a = 1\n",
    "b = 1\n",
    "a,b = b,a+b\n",
    "print(a,b)"
   ]
  },
  {
   "attachments": {},
   "cell_type": "markdown",
   "metadata": {},
   "source": [
    "```\n",
    "var1 = 1 #int\n",
    "var2 = 1.0 # float\n",
    "var3 = 1.0 + 1.0j # complex\n",
    "################################\n",
    "var4 = \"Vektorel\" #str\n",
    "var5 = [1,1.0,1.0+1.0j,\"Vektorel\"] #list\n",
    "var6 = (1,1.0,1.0+1.0j,\"Vektorel\") #tuple\n",
    "var7 = {\"1\":\"Bir\",\"2\":\"İki\"} # dict\n",
    "var8 = {1,2,3} # set\n",
    "var9 = True # bool\n",
    "```\n",
    "yukarıkdaki kod bloğundan faydalanarak 02_01_giris.py dosyasına farklı değerlerde değişken tanımı yapınız"
   ]
  },
  {
   "cell_type": "code",
   "execution_count": 21,
   "metadata": {},
   "outputs": [
    {
     "data": {
      "text/plain": [
       "'23'"
      ]
     },
     "execution_count": 21,
     "metadata": {},
     "output_type": "execute_result"
    }
   ],
   "source": [
    "a = \"2\"\n",
    "b = \"3\"\n",
    "a+b #concatenate == concat\n"
   ]
  },
  {
   "cell_type": "code",
   "execution_count": 23,
   "metadata": {},
   "outputs": [
    {
     "data": {
      "text/plain": [
       "[1, 2, 3, 4, 5, 6]"
      ]
     },
     "execution_count": 23,
     "metadata": {},
     "output_type": "execute_result"
    }
   ],
   "source": [
    "a = [1,2,3]\n",
    "b = [4,5,6]\n",
    "a+b"
   ]
  },
  {
   "cell_type": "code",
   "execution_count": 22,
   "metadata": {},
   "outputs": [
    {
     "data": {
      "text/plain": [
       "5"
      ]
     },
     "execution_count": 22,
     "metadata": {},
     "output_type": "execute_result"
    }
   ],
   "source": [
    "a = 2\n",
    "b = 3\n",
    "a+b"
   ]
  },
  {
   "cell_type": "code",
   "execution_count": null,
   "metadata": {},
   "outputs": [],
   "source": []
  }
 ],
 "metadata": {
  "kernelspec": {
   "display_name": "Python 3",
   "language": "python",
   "name": "python3"
  },
  "language_info": {
   "codemirror_mode": {
    "name": "ipython",
    "version": 3
   },
   "file_extension": ".py",
   "mimetype": "text/x-python",
   "name": "python",
   "nbconvert_exporter": "python",
   "pygments_lexer": "ipython3",
   "version": "3.8.16"
  },
  "orig_nbformat": 4
 },
 "nbformat": 4,
 "nbformat_minor": 2
}
